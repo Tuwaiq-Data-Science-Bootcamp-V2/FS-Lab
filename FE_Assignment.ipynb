{
 "cells": [
  {
   "cell_type": "code",
   "execution_count": 18,
   "id": "7dd85a95",
   "metadata": {},
   "outputs": [],
   "source": [
    "import pandas as pd \n",
    "import numpy as np\n",
    "from sklearn.preprocessing import OrdinalEncoder,OneHotEncoder\n",
    "import math"
   ]
  },
  {
   "cell_type": "code",
   "execution_count": 3,
   "id": "06140c9e",
   "metadata": {},
   "outputs": [],
   "source": [
    "data=pd.read_csv('insurance.csv')\n",
    "test=data.copy()"
   ]
  },
  {
   "cell_type": "code",
   "execution_count": 4,
   "id": "7c247342",
   "metadata": {},
   "outputs": [
    {
     "data": {
      "text/html": [
       "<div>\n",
       "<style scoped>\n",
       "    .dataframe tbody tr th:only-of-type {\n",
       "        vertical-align: middle;\n",
       "    }\n",
       "\n",
       "    .dataframe tbody tr th {\n",
       "        vertical-align: top;\n",
       "    }\n",
       "\n",
       "    .dataframe thead th {\n",
       "        text-align: right;\n",
       "    }\n",
       "</style>\n",
       "<table border=\"1\" class=\"dataframe\">\n",
       "  <thead>\n",
       "    <tr style=\"text-align: right;\">\n",
       "      <th></th>\n",
       "      <th>age</th>\n",
       "      <th>sex</th>\n",
       "      <th>bmi</th>\n",
       "      <th>children</th>\n",
       "      <th>smoker</th>\n",
       "      <th>region</th>\n",
       "      <th>charges</th>\n",
       "    </tr>\n",
       "  </thead>\n",
       "  <tbody>\n",
       "    <tr>\n",
       "      <th>0</th>\n",
       "      <td>19</td>\n",
       "      <td>female</td>\n",
       "      <td>27.90</td>\n",
       "      <td>0</td>\n",
       "      <td>yes</td>\n",
       "      <td>southwest</td>\n",
       "      <td>16884.9240</td>\n",
       "    </tr>\n",
       "    <tr>\n",
       "      <th>1</th>\n",
       "      <td>18</td>\n",
       "      <td>male</td>\n",
       "      <td>33.77</td>\n",
       "      <td>1</td>\n",
       "      <td>no</td>\n",
       "      <td>southeast</td>\n",
       "      <td>1725.5523</td>\n",
       "    </tr>\n",
       "    <tr>\n",
       "      <th>2</th>\n",
       "      <td>28</td>\n",
       "      <td>male</td>\n",
       "      <td>33.00</td>\n",
       "      <td>3</td>\n",
       "      <td>no</td>\n",
       "      <td>southeast</td>\n",
       "      <td>4449.4620</td>\n",
       "    </tr>\n",
       "  </tbody>\n",
       "</table>\n",
       "</div>"
      ],
      "text/plain": [
       "   age     sex    bmi  children smoker     region     charges\n",
       "0   19  female  27.90         0    yes  southwest  16884.9240\n",
       "1   18    male  33.77         1     no  southeast   1725.5523\n",
       "2   28    male  33.00         3     no  southeast   4449.4620"
      ]
     },
     "execution_count": 4,
     "metadata": {},
     "output_type": "execute_result"
    }
   ],
   "source": [
    "data.head(3)"
   ]
  },
  {
   "cell_type": "code",
   "execution_count": 5,
   "id": "26e4da53",
   "metadata": {},
   "outputs": [
    {
     "name": "stdout",
     "output_type": "stream",
     "text": [
      "<class 'pandas.core.frame.DataFrame'>\n",
      "RangeIndex: 1338 entries, 0 to 1337\n",
      "Data columns (total 7 columns):\n",
      " #   Column    Non-Null Count  Dtype  \n",
      "---  ------    --------------  -----  \n",
      " 0   age       1338 non-null   int64  \n",
      " 1   sex       1338 non-null   object \n",
      " 2   bmi       1338 non-null   float64\n",
      " 3   children  1338 non-null   int64  \n",
      " 4   smoker    1338 non-null   object \n",
      " 5   region    1338 non-null   object \n",
      " 6   charges   1338 non-null   float64\n",
      "dtypes: float64(2), int64(2), object(3)\n",
      "memory usage: 73.3+ KB\n"
     ]
    }
   ],
   "source": [
    "data.info()"
   ]
  },
  {
   "cell_type": "markdown",
   "id": "aedd28af",
   "metadata": {},
   "source": [
    "# Q1: Apply Ordinal encoding."
   ]
  },
  {
   "cell_type": "code",
   "execution_count": 6,
   "id": "a4b7a94a",
   "metadata": {},
   "outputs": [],
   "source": [
    "test=data.copy()\n",
    "O_encoder=OrdinalEncoder()\n",
    "f=[ [i] for i in test['region']]\n",
    "O_encoder.fit(f)\n",
    "test['region']=pd.Series(O_encoder.transform(f)[:,0])"
   ]
  },
  {
   "cell_type": "code",
   "execution_count": 7,
   "id": "2dc5e474",
   "metadata": {},
   "outputs": [
    {
     "data": {
      "text/plain": [
       "array([3., 2., 1., 0.])"
      ]
     },
     "execution_count": 7,
     "metadata": {},
     "output_type": "execute_result"
    }
   ],
   "source": [
    "test['region'].unique()"
   ]
  },
  {
   "cell_type": "code",
   "execution_count": 8,
   "id": "69906c6b",
   "metadata": {},
   "outputs": [
    {
     "data": {
      "text/plain": [
       "array(['southwest', 'southeast', 'northwest', 'northeast'], dtype=object)"
      ]
     },
     "execution_count": 8,
     "metadata": {},
     "output_type": "execute_result"
    }
   ],
   "source": [
    "data['region'].unique()"
   ]
  },
  {
   "cell_type": "markdown",
   "id": "811de40c",
   "metadata": {},
   "source": [
    "# Q2: Apply One hot encoding."
   ]
  },
  {
   "cell_type": "code",
   "execution_count": 9,
   "id": "47b3cd25",
   "metadata": {},
   "outputs": [
    {
     "name": "stdout",
     "output_type": "stream",
     "text": [
      "  (0, 3)\t1.0\n",
      "  (1, 2)\t1.0\n",
      "  (2, 2)\t1.0\n",
      "  (3, 1)\t1.0\n",
      "  (4, 1)\t1.0\n",
      "  (5, 2)\t1.0\n",
      "  (6, 2)\t1.0\n",
      "  (7, 1)\t1.0\n",
      "  (8, 0)\t1.0\n",
      "  (9, 1)\t1.0\n",
      "  (10, 0)\t1.0\n",
      "  (11, 2)\t1.0\n",
      "  (12, 3)\t1.0\n",
      "  (13, 2)\t1.0\n",
      "  (14, 2)\t1.0\n",
      "  (15, 3)\t1.0\n",
      "  (16, 0)\t1.0\n",
      "  (17, 0)\t1.0\n",
      "  (18, 3)\t1.0\n",
      "  (19, 3)\t1.0\n",
      "  (20, 0)\t1.0\n",
      "  (21, 3)\t1.0\n",
      "  (22, 2)\t1.0\n",
      "  (23, 0)\t1.0\n",
      "  (24, 1)\t1.0\n",
      "  :\t:\n",
      "  (1313, 3)\t1.0\n",
      "  (1314, 1)\t1.0\n",
      "  (1315, 0)\t1.0\n",
      "  (1316, 3)\t1.0\n",
      "  (1317, 2)\t1.0\n",
      "  (1318, 0)\t1.0\n",
      "  (1319, 1)\t1.0\n",
      "  (1320, 1)\t1.0\n",
      "  (1321, 0)\t1.0\n",
      "  (1322, 2)\t1.0\n",
      "  (1323, 2)\t1.0\n",
      "  (1324, 1)\t1.0\n",
      "  (1325, 0)\t1.0\n",
      "  (1326, 0)\t1.0\n",
      "  (1327, 2)\t1.0\n",
      "  (1328, 0)\t1.0\n",
      "  (1329, 3)\t1.0\n",
      "  (1330, 2)\t1.0\n",
      "  (1331, 3)\t1.0\n",
      "  (1332, 3)\t1.0\n",
      "  (1333, 1)\t1.0\n",
      "  (1334, 0)\t1.0\n",
      "  (1335, 2)\t1.0\n",
      "  (1336, 3)\t1.0\n",
      "  (1337, 1)\t1.0\n"
     ]
    }
   ],
   "source": [
    "test=data.copy()\n",
    "OH_encoder=OneHotEncoder()\n",
    "f=[ [i] for i in test['region']]\n",
    "OH_encoder.fit(f)\n",
    "OH_encoder.transform(f)\n",
    "print(OH_encoder.transform(f))"
   ]
  },
  {
   "cell_type": "markdown",
   "id": "0e623a63",
   "metadata": {},
   "source": [
    "# Q3: Apply Frequency Encoding. "
   ]
  },
  {
   "cell_type": "code",
   "execution_count": 10,
   "id": "22f1d42c",
   "metadata": {},
   "outputs": [],
   "source": [
    "def Frequency_encoder(data):\n",
    "    encoder={}\n",
    "    for i,item in data.iteritems():\n",
    "        encoder[item]=encoder.get(item,0)+1\n",
    "    decoder={v: k for k, v in encoder.items()}\n",
    "    return encoder, decoder"
   ]
  },
  {
   "cell_type": "code",
   "execution_count": 11,
   "id": "69687a54",
   "metadata": {},
   "outputs": [],
   "source": [
    "test=data.copy()\n",
    "encoder,decoder=Frequency_encoder(test['region'])"
   ]
  },
  {
   "cell_type": "code",
   "execution_count": 12,
   "id": "f0286624",
   "metadata": {},
   "outputs": [
    {
     "data": {
      "text/plain": [
       "{'southwest': 325, 'southeast': 364, 'northwest': 325, 'northeast': 324}"
      ]
     },
     "execution_count": 12,
     "metadata": {},
     "output_type": "execute_result"
    }
   ],
   "source": [
    "encoder"
   ]
  },
  {
   "cell_type": "code",
   "execution_count": 13,
   "id": "54ca5bc7",
   "metadata": {},
   "outputs": [
    {
     "data": {
      "text/plain": [
       "{325: 'northwest', 364: 'southeast', 324: 'northeast'}"
      ]
     },
     "execution_count": 13,
     "metadata": {},
     "output_type": "execute_result"
    }
   ],
   "source": [
    "decoder"
   ]
  },
  {
   "cell_type": "code",
   "execution_count": 14,
   "id": "14749a47",
   "metadata": {},
   "outputs": [
    {
     "data": {
      "text/plain": [
       "0       325\n",
       "1       364\n",
       "2       364\n",
       "3       325\n",
       "4       325\n",
       "       ... \n",
       "1333    325\n",
       "1334    324\n",
       "1335    364\n",
       "1336    325\n",
       "1337    325\n",
       "Name: region, Length: 1338, dtype: int64"
      ]
     },
     "execution_count": 14,
     "metadata": {},
     "output_type": "execute_result"
    }
   ],
   "source": [
    "test['region'].apply(lambda x : encoder[x])"
   ]
  },
  {
   "cell_type": "markdown",
   "id": "2bd30d8c",
   "metadata": {},
   "source": [
    "# Q4: Apply Binary Encoding. "
   ]
  },
  {
   "cell_type": "code",
   "execution_count": 73,
   "id": "e2eb4cc4",
   "metadata": {},
   "outputs": [],
   "source": [
    "def from_D_to_B(num,num_digts):\n",
    "    result=[]\n",
    "    for i in range(num_digts-1):\n",
    "        right = num%2\n",
    "        left = math.floor(num/2)\n",
    "        result.append(right)\n",
    "        num=left\n",
    "    result.reverse()\n",
    "    return result\n",
    "\n",
    "def Binary_encoder(data):\n",
    "    length=len(data.unique())\n",
    "    labels={item:i+1 for i,item in enumerate(data.unique())}\n",
    "    num_digts= math.ceil(math.log(length,2))\n",
    "    encoder={k:from_D_to_B(v,length) for k,v in labels.items()}\n",
    "\n",
    "    return encoder"
   ]
  },
  {
   "cell_type": "code",
   "execution_count": 77,
   "id": "4b315fb5",
   "metadata": {},
   "outputs": [
    {
     "data": {
      "text/plain": [
       "{'southwest': [0, 0, 1],\n",
       " 'southeast': [0, 1, 0],\n",
       " 'northwest': [0, 1, 1],\n",
       " 'northeast': [1, 0, 0]}"
      ]
     },
     "execution_count": 77,
     "metadata": {},
     "output_type": "execute_result"
    }
   ],
   "source": [
    "test=data.copy()\n",
    "encoder=Binary_encoder(test['region'])\n",
    "encoder"
   ]
  },
  {
   "cell_type": "code",
   "execution_count": 78,
   "id": "66163312",
   "metadata": {},
   "outputs": [],
   "source": [
    "test[['d1','d2','d3']]=test['region'].apply(lambda x : pd.Series(encoder[x]))"
   ]
  },
  {
   "cell_type": "code",
   "execution_count": 79,
   "id": "a605f381",
   "metadata": {},
   "outputs": [
    {
     "data": {
      "text/html": [
       "<div>\n",
       "<style scoped>\n",
       "    .dataframe tbody tr th:only-of-type {\n",
       "        vertical-align: middle;\n",
       "    }\n",
       "\n",
       "    .dataframe tbody tr th {\n",
       "        vertical-align: top;\n",
       "    }\n",
       "\n",
       "    .dataframe thead th {\n",
       "        text-align: right;\n",
       "    }\n",
       "</style>\n",
       "<table border=\"1\" class=\"dataframe\">\n",
       "  <thead>\n",
       "    <tr style=\"text-align: right;\">\n",
       "      <th></th>\n",
       "      <th>age</th>\n",
       "      <th>sex</th>\n",
       "      <th>bmi</th>\n",
       "      <th>children</th>\n",
       "      <th>smoker</th>\n",
       "      <th>region</th>\n",
       "      <th>charges</th>\n",
       "      <th>d1</th>\n",
       "      <th>d2</th>\n",
       "      <th>d3</th>\n",
       "    </tr>\n",
       "  </thead>\n",
       "  <tbody>\n",
       "    <tr>\n",
       "      <th>0</th>\n",
       "      <td>19</td>\n",
       "      <td>female</td>\n",
       "      <td>27.900</td>\n",
       "      <td>0</td>\n",
       "      <td>yes</td>\n",
       "      <td>southwest</td>\n",
       "      <td>16884.92400</td>\n",
       "      <td>0</td>\n",
       "      <td>0</td>\n",
       "      <td>1</td>\n",
       "    </tr>\n",
       "    <tr>\n",
       "      <th>1</th>\n",
       "      <td>18</td>\n",
       "      <td>male</td>\n",
       "      <td>33.770</td>\n",
       "      <td>1</td>\n",
       "      <td>no</td>\n",
       "      <td>southeast</td>\n",
       "      <td>1725.55230</td>\n",
       "      <td>0</td>\n",
       "      <td>1</td>\n",
       "      <td>0</td>\n",
       "    </tr>\n",
       "    <tr>\n",
       "      <th>2</th>\n",
       "      <td>28</td>\n",
       "      <td>male</td>\n",
       "      <td>33.000</td>\n",
       "      <td>3</td>\n",
       "      <td>no</td>\n",
       "      <td>southeast</td>\n",
       "      <td>4449.46200</td>\n",
       "      <td>0</td>\n",
       "      <td>1</td>\n",
       "      <td>0</td>\n",
       "    </tr>\n",
       "    <tr>\n",
       "      <th>3</th>\n",
       "      <td>33</td>\n",
       "      <td>male</td>\n",
       "      <td>22.705</td>\n",
       "      <td>0</td>\n",
       "      <td>no</td>\n",
       "      <td>northwest</td>\n",
       "      <td>21984.47061</td>\n",
       "      <td>0</td>\n",
       "      <td>1</td>\n",
       "      <td>1</td>\n",
       "    </tr>\n",
       "    <tr>\n",
       "      <th>4</th>\n",
       "      <td>32</td>\n",
       "      <td>male</td>\n",
       "      <td>28.880</td>\n",
       "      <td>0</td>\n",
       "      <td>no</td>\n",
       "      <td>northwest</td>\n",
       "      <td>3866.85520</td>\n",
       "      <td>0</td>\n",
       "      <td>1</td>\n",
       "      <td>1</td>\n",
       "    </tr>\n",
       "    <tr>\n",
       "      <th>...</th>\n",
       "      <td>...</td>\n",
       "      <td>...</td>\n",
       "      <td>...</td>\n",
       "      <td>...</td>\n",
       "      <td>...</td>\n",
       "      <td>...</td>\n",
       "      <td>...</td>\n",
       "      <td>...</td>\n",
       "      <td>...</td>\n",
       "      <td>...</td>\n",
       "    </tr>\n",
       "    <tr>\n",
       "      <th>1333</th>\n",
       "      <td>50</td>\n",
       "      <td>male</td>\n",
       "      <td>30.970</td>\n",
       "      <td>3</td>\n",
       "      <td>no</td>\n",
       "      <td>northwest</td>\n",
       "      <td>10600.54830</td>\n",
       "      <td>0</td>\n",
       "      <td>1</td>\n",
       "      <td>1</td>\n",
       "    </tr>\n",
       "    <tr>\n",
       "      <th>1334</th>\n",
       "      <td>18</td>\n",
       "      <td>female</td>\n",
       "      <td>31.920</td>\n",
       "      <td>0</td>\n",
       "      <td>no</td>\n",
       "      <td>northeast</td>\n",
       "      <td>2205.98080</td>\n",
       "      <td>1</td>\n",
       "      <td>0</td>\n",
       "      <td>0</td>\n",
       "    </tr>\n",
       "    <tr>\n",
       "      <th>1335</th>\n",
       "      <td>18</td>\n",
       "      <td>female</td>\n",
       "      <td>36.850</td>\n",
       "      <td>0</td>\n",
       "      <td>no</td>\n",
       "      <td>southeast</td>\n",
       "      <td>1629.83350</td>\n",
       "      <td>0</td>\n",
       "      <td>1</td>\n",
       "      <td>0</td>\n",
       "    </tr>\n",
       "    <tr>\n",
       "      <th>1336</th>\n",
       "      <td>21</td>\n",
       "      <td>female</td>\n",
       "      <td>25.800</td>\n",
       "      <td>0</td>\n",
       "      <td>no</td>\n",
       "      <td>southwest</td>\n",
       "      <td>2007.94500</td>\n",
       "      <td>0</td>\n",
       "      <td>0</td>\n",
       "      <td>1</td>\n",
       "    </tr>\n",
       "    <tr>\n",
       "      <th>1337</th>\n",
       "      <td>61</td>\n",
       "      <td>female</td>\n",
       "      <td>29.070</td>\n",
       "      <td>0</td>\n",
       "      <td>yes</td>\n",
       "      <td>northwest</td>\n",
       "      <td>29141.36030</td>\n",
       "      <td>0</td>\n",
       "      <td>1</td>\n",
       "      <td>1</td>\n",
       "    </tr>\n",
       "  </tbody>\n",
       "</table>\n",
       "<p>1338 rows × 10 columns</p>\n",
       "</div>"
      ],
      "text/plain": [
       "      age     sex     bmi  children smoker     region      charges  d1  d2  d3\n",
       "0      19  female  27.900         0    yes  southwest  16884.92400   0   0   1\n",
       "1      18    male  33.770         1     no  southeast   1725.55230   0   1   0\n",
       "2      28    male  33.000         3     no  southeast   4449.46200   0   1   0\n",
       "3      33    male  22.705         0     no  northwest  21984.47061   0   1   1\n",
       "4      32    male  28.880         0     no  northwest   3866.85520   0   1   1\n",
       "...   ...     ...     ...       ...    ...        ...          ...  ..  ..  ..\n",
       "1333   50    male  30.970         3     no  northwest  10600.54830   0   1   1\n",
       "1334   18  female  31.920         0     no  northeast   2205.98080   1   0   0\n",
       "1335   18  female  36.850         0     no  southeast   1629.83350   0   1   0\n",
       "1336   21  female  25.800         0     no  southwest   2007.94500   0   0   1\n",
       "1337   61  female  29.070         0    yes  northwest  29141.36030   0   1   1\n",
       "\n",
       "[1338 rows x 10 columns]"
      ]
     },
     "execution_count": 79,
     "metadata": {},
     "output_type": "execute_result"
    }
   ],
   "source": [
    "test"
   ]
  },
  {
   "cell_type": "code",
   "execution_count": null,
   "id": "1f016f67",
   "metadata": {},
   "outputs": [],
   "source": []
  }
 ],
 "metadata": {
  "kernelspec": {
   "display_name": "Python 3 (ipykernel)",
   "language": "python",
   "name": "python3"
  },
  "language_info": {
   "codemirror_mode": {
    "name": "ipython",
    "version": 3
   },
   "file_extension": ".py",
   "mimetype": "text/x-python",
   "name": "python",
   "nbconvert_exporter": "python",
   "pygments_lexer": "ipython3",
   "version": "3.8.10"
  }
 },
 "nbformat": 4,
 "nbformat_minor": 5
}
